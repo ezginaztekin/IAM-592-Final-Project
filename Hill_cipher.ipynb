# Python codes for Hill Cipher encryption

import numpy as np
def hill_cipher_encrypt(text, key):

  a = len(text)

# Generating vector for the key  
  key_matrix = np.zeros((a,a),dtype=int)
  
# Generating vector for the plaintext
  text_matrix = np.zeros(a,dtype=int).T
  
# Generating vector for the cipher
  cipher_matrix = np.zeros(a,dtype=int).T
  
# Getting key matrix from the key string 
  k = 0
  for i in range(a):
      for j in range(a):
          key_matrix[i, j] = ord(key[k]) % 65
          k += 1 
 
# Getting vector from the text string
  for i in range(a):
      text_matrix[i] = ord(text[i]) % 65
  
# Getting the encrypted vector with key metrix and text matrix
  for i in range(a):
    for j in range(a):
      cipher_matrix[i] += (key_matrix[i, j] * text_matrix[j])
    cipher_matrix[i] = cipher_matrix[i] % 26

# Generating the encrypted text from the encrypted vector
  cipher_text = []
  for i in range(a):
      cipher_text.append(chr(cipher_matrix[i] + 65))
  
    # Returning the ciphertext
  return ("".join(cipher_text))
  
#checking the hill_cipher_encrypt function 
hill_text = input("Please give the plaintext : ")      
hill_key = input("Please give the shift number : ")    
  
print("the ciphertext:", hill_cipher_encrypt(hill_text, hill_key) ) 
