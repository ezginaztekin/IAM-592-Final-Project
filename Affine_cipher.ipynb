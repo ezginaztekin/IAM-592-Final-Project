{
  "nbformat": 4,
  "nbformat_minor": 0,
  "metadata": {
    "colab": {
      "name": "Affine_cipher.ipynb",
      "provenance": []
    },
    "kernelspec": {
      "name": "python3",
      "display_name": "Python 3"
    },
    "language_info": {
      "name": "python"
    }
  },
  "cells": [
    {
      "cell_type": "markdown",
      "metadata": {
        "id": "i-Qvqvkw1Atw"
      },
      "source": [
        "## Affine Cipher \n",
        "Affine cipher is another substitution cipher. We have a key space:\n",
        "\n",
        "$$  K = \\{(a,b) \\in Z_{26} \\times Z_{26} : gcd(a, 26) = 1 \\}  $$\n",
        "\n",
        "In encryption part, we have the key (a,b) $\\in$ K where $ a, b \\in Z_{26} $  (according to english alphabet) and x is the each letter of message.\n",
        "\n",
        "$$   E_K (x) = (ax+b) (mod 26)  $$   \n",
        "Observe that if a = 1 , then we have shift cipher.\n",
        "\n",
        "In dencryption part, we have the key (a,b) where $ a, b \\in Z_{26}$\n",
        "$$   D_K (x) =  a^{-1} (y - b) (\\text{mod} 26)  $$   where y is encrypted message."
      ]
    },
    {
      "cell_type": "code",
      "metadata": {
        "id": "tIJgrStxmgJY",
        "colab": {
          "base_uri": "https://localhost:8080/"
        },
        "outputId": "a4e2b7bd-00ad-4ef1-af8c-30ae3d5ca47d"
      },
      "source": [
        "# Python codes for Affine Cipher encryption\n",
        "def affine_cipher_encrypt(text, key):   #E = (a*x + b) % 26 \n",
        "    a = int(key[0])\n",
        "    b = int(key[1])\n",
        "  \n",
        "    t = list(text)\n",
        "    textt=[]\n",
        "\n",
        "    for i in range(len(t)):\n",
        "\n",
        "     #Encrypting uppercase characters\n",
        "       if (t[i].isupper()):\n",
        "          k = chr((a * (ord(t[i]) - ord('A')) + b) % 26 + ord('A'))\n",
        "          textt.append(k)\n",
        "\n",
        "      # Encrypting lowercase characters\n",
        "       elif (t[i].islower()):\n",
        "          k =  chr((a * (ord(t[i]) - ord('a')) + b) % 26 + ord('a')) \n",
        "          textt.append(k)\n",
        "\n",
        "      # Checking empty list index \n",
        "       else:\n",
        "         textt.append(\" \")\n",
        "\n",
        "    texttt =\"\"\n",
        "    return (texttt.join(textt))\n",
        " \n",
        "#checking the affine_cipher_encrypt function  \n",
        "affine_text = input(\"Please give the plaintext : \")      # input: AFFINE CIPHER\n",
        "affine_shift1 = input(\"Please give the key number a  : \")  # input:  a = 17 , b = 20 \n",
        "affine_shift2 = input(\"Please give the key number b  : \") \n",
        "\n",
        "print (\"The Ciphertext : \", affine_cipher_encrypt(affine_text, [affine_shift1, affine_shift2])) #output: UBBAHKCAPJKX\n",
        "\n"
      ],
      "execution_count": 24,
      "outputs": [
        {
          "output_type": "stream",
          "text": [
            "Please give the plaintext : AFFINE CIPHER\n",
            "Please give the key number a  : 17\n",
            "Please give the key number b  : 20\n",
            "The Ciphertext :  UBBAHK CAPJKX\n"
          ],
          "name": "stdout"
        }
      ]
    },
    {
      "cell_type": "code",
      "metadata": {
        "colab": {
          "base_uri": "https://localhost:8080/"
        },
        "id": "8f8d7C0vpzjj",
        "outputId": "f20c5d9f-4652-43c2-b96b-2fce37a0402b"
      },
      "source": [
        "def egcd(a, b):\n",
        "    x,y, u,v = 0,1, 1,0\n",
        "    while a != 0:\n",
        "        q, r = b//a, b%a\n",
        "        m, n = x-u*q, y-v*q\n",
        "        b,a, x,y, u,v = a,r, u,v, m,n\n",
        "    gcd = b\n",
        "    return gcd, x, y\n",
        "\n",
        "def inverse_mod(a, m): \n",
        "  gcd, x, y = egcd(a, m) \n",
        "  if gcd != 1: \n",
        "    return None # modular inverse does not exist \n",
        "  else: \n",
        "    return x % m \n",
        "\n",
        "# Python codes for affine Cipher decryption\n",
        "\n",
        "def affine_cipher_decrypt(text, key):   #D(E) = (a^-1 * (E - b)) % 26\n",
        "    a = int(key[0])\n",
        "    b = int(key[1])\n",
        "\n",
        "    t = list(text)\n",
        "    textt=[]\n",
        "\n",
        "    m = 26\n",
        "    inverse_of_a = inverse_mod(a, m)\n",
        "\n",
        "    for i in range(len(t)):\n",
        "\n",
        "     #Encrypting uppercase characters\n",
        "       if (t[i].isupper()):\n",
        "          k = chr(((inverse_of_a * (ord(t[i]) - ord('A') - b)) % 26) + ord('A'))\n",
        "          textt.append(k)\n",
        "\n",
        "      # Encrypting lowercase characters\n",
        "       elif (t[i].islower()):\n",
        "          k = chr(((inverse_of_a * (ord(t[i]) - ord('a') - b)) % 26) + ord('a'))\n",
        "          textt.append(k)\n",
        "\n",
        "      # Checking empty list index \n",
        "       else:\n",
        "         textt.append(\" \")\n",
        "\n",
        "    texttt =\"\"\n",
        "    return (texttt.join(textt))\n",
        "\n",
        "decryption = affine_cipher_encrypt(affine_text, [affine_shift1, affine_shift2])\n",
        "\n",
        "print (\"The Plaintext : \", affine_cipher_decrypt(decryption, [affine_shift1, affine_shift2]))"
      ],
      "execution_count": 26,
      "outputs": [
        {
          "output_type": "stream",
          "text": [
            "The Plaintext :  AFFINE CIPHER\n"
          ],
          "name": "stdout"
        }
      ]
    }
  ]
}