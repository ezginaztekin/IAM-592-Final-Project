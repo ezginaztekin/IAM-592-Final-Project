{
  "nbformat": 4,
  "nbformat_minor": 0,
  "metadata": {
    "colab": {
      "name": "Shift_cipher.ipynb",
      "provenance": []
    },
    "kernelspec": {
      "name": "python3",
      "display_name": "Python 3"
    },
    "language_info": {
      "name": "python"
    }
  },
  "cells": [
    {
      "cell_type": "markdown",
      "metadata": {
        "id": "ufJQAmDWRUud"
      },
      "source": [
        "## Shift Cipher \n",
        "Shift Cipher is one of the simplest, and most widely known encryption technique which is based on modular arithmetic. In shift cipher, each letter in the plaintext is replaced by left or right n.letter. That is, with a right shift of 6, A would be replaced by G, B would become H, and so on. \n",
        "\n",
        "In encrytion, the letter x is shifted to n step right, \n",
        "$$E_{n}(x)=(x + n)\\mod {26}$$\n",
        "\n",
        "In decryption, the letter x is shifted to n step left,\n",
        "$$D_{n}(x)=(x - n)\\mod {26}$$ \n",
        "For example,\n",
        "\n",
        "Plaintext:  METU\n",
        "\n",
        "Key   :     4\n",
        "\n",
        "Ciphertext: QIXY"
      ]
    },
    {
      "cell_type": "code",
      "metadata": {
        "colab": {
          "base_uri": "https://localhost:8080/"
        },
        "id": "vCd00QAhPvDm",
        "outputId": "83cd77d6-47dc-431d-e08c-9a421648b88a"
      },
      "source": [
        "# Python codes for Shift Cipher encryption\n",
        "def shift_cipher_encrypt(text, shift):\n",
        "\n",
        "    t = list(text)\n",
        "    textt=[]\n",
        "    for i in range(len(t)):\n",
        "\n",
        "     #Encrypting uppercase characters\n",
        "       if (t[i].isupper()):\n",
        "          k = chr((ord(t[i]) + int(shift) - 65) % 26 + 65) \n",
        "          textt.append(k)\n",
        "\n",
        "      # Encrypting lowercase characters\n",
        "       elif (t[i].islower()):\n",
        "          k =  chr((ord(t[i]) + int(shift) - 97) % 26 + 97)\n",
        "          textt.append(k)\n",
        "\n",
        "      # Checking empty list index \n",
        "       else:\n",
        "         textt.append(\" \")\n",
        "\n",
        "    texttt =\"\"\n",
        "    return (texttt.join(textt))\n",
        " \n",
        "#checking the shift_cipher_encrypt function  \n",
        "shift_text = input(\"Please give the plaintext : \")      # input: METU\n",
        "shift_shift = input(\"Please give the shift number : \")  # input: 4\n",
        "\n",
        "\n",
        "print (\"The Ciphertext : \", shift_cipher_encrypt(shift_text, shift_shift)) #output:  QIXY\n",
        "\n"
      ],
      "execution_count": 4,
      "outputs": [
        {
          "output_type": "stream",
          "text": [
            "Please give the plaintext : METU\n",
            "Please give the shift number : 4\n",
            "The Ciphertext :  QIXY\n"
          ],
          "name": "stdout"
        }
      ]
    },
    {
      "cell_type": "code",
      "metadata": {
        "colab": {
          "base_uri": "https://localhost:8080/"
        },
        "id": "06DV3MkhSSZE",
        "outputId": "f47084f3-54d0-4c80-ad00-ccd3f9def261"
      },
      "source": [
        "# Python codes for Shift Cipher decryption\n",
        "\n",
        "def shift_cipher_decrypt(text, shift):\n",
        "\n",
        "    t = list(text)\n",
        "    textt=[]\n",
        "    for i in range(len(t)):\n",
        "\n",
        "     #Encrypting uppercase characters\n",
        "       if (t[i].isupper()):\n",
        "          k = chr((ord(t[i]) - int(shift) - 65) % 26 + 65) \n",
        "          textt.append(k)\n",
        "\n",
        "      # Encrypting lowercase characters\n",
        "       elif (t[i].islower()):\n",
        "          k =  chr((ord(t[i]) - int(shift) - 97) % 26 + 97)\n",
        "          textt.append(k)\n",
        "\n",
        "      # Checking empty list index \n",
        "       else:\n",
        "         textt.append(\" \")\n",
        "\n",
        "    texttt =\"\"\n",
        "    return (texttt.join(textt))\n",
        "\n",
        "decryption = shift_cipher_encrypt(shift_text, shift_shift)\n",
        "\n",
        "print (\"The Plaintext : \", shift_cipher_decrypt(decryption, shift_shift))"
      ],
      "execution_count": 5,
      "outputs": [
        {
          "output_type": "stream",
          "text": [
            "The Plaintext :  METU\n"
          ],
          "name": "stdout"
        }
      ]
    }
  ]
}