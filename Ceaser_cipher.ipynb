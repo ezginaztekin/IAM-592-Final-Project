{
  "nbformat": 4,
  "nbformat_minor": 0,
  "metadata": {
    "colab": {
      "name": "Ceaser_cipher.ipynb",
      "provenance": []
    },
    "kernelspec": {
      "name": "python3",
      "display_name": "Python 3"
    },
    "language_info": {
      "name": "python"
    }
  },
  "cells": [
    {
      "cell_type": "markdown",
      "metadata": {
        "id": "uawIbiCMBqHu"
      },
      "source": [
        "## Ceaser Cipher \n",
        "Also known as Caesar's code or Caesar shift, is one of the simplest and most widely known encryption technique. It is a special version of shift cipher where each letter in the plaintext is replaced by left or right 3.letter. That is, with a right shift of 3, A would be replaced by D, B would become E, and so on. \n",
        "\n",
        "In encrytion, the letter x is shifted to three step right, \n",
        "$$E_{n}(x)=(x + 3)\\mod {26}$$\n",
        "\n",
        "In decryption, the letter x is shifted to three step left,\n",
        "$$D_{n}(x)=(x - 3)\\mod {26}$$ \n",
        "For example,\n",
        "\n",
        "Plaintext:  THE   QUICK    BROWN FOX JUMPS OVER THE LAZY DOG\n",
        "\n",
        "Ciphertext: QEB   NRFZH    YOLTK CLU GRJMP LSBO QEB IXWV ALD"
      ]
    },
    {
      "cell_type": "code",
      "metadata": {
        "colab": {
          "base_uri": "https://localhost:8080/"
        },
        "id": "YzHY4xwTACnZ",
        "outputId": "e8e65283-beb1-4399-d2dc-9c08df27b0fd"
      },
      "source": [
        "# Python codes for Caesar Cipher encryption\n",
        "def ceaser_cipher_encrypt(text):\n",
        "\n",
        "    t = list(text)\n",
        "    textt=[]\n",
        "    for i in range(len(t)):\n",
        "\n",
        "     #Encrypting uppercase characters\n",
        "       if (t[i].isupper()):\n",
        "          k = chr((ord(t[i]) + 3 - 65) % 26 + 65) \n",
        "          textt.append(k)\n",
        "\n",
        "      # Encrypting lowercase characters\n",
        "       elif (t[i].islower()):\n",
        "          k =  chr((ord(t[i]) + 3 - 97) % 26 + 97)\n",
        "          textt.append(k)\n",
        "\n",
        "      # Checking empty list index \n",
        "       else:\n",
        "         textt.append(\" \")\n",
        "\n",
        "    texttt =\"\"\n",
        "    return (texttt.join(textt))\n",
        "\n",
        "#checking the ceaser_cipher_encrypt function  \n",
        "ceaser_text = input(\"Please give the plaintext : \")      # input: naz\n",
        "\n",
        "\n",
        "print (\"The Ciphertext : \", ceaser_cipher_encrypt(ceaser_text)) #output:  qdc\n",
        "\n"
      ],
      "execution_count": 4,
      "outputs": [
        {
          "output_type": "stream",
          "text": [
            "Please give the plaintext : naz\n",
            "The Ciphertext :  qdc\n"
          ],
          "name": "stdout"
        }
      ]
    },
    {
      "cell_type": "code",
      "metadata": {
        "colab": {
          "base_uri": "https://localhost:8080/"
        },
        "id": "c6dUZ2n6BGYC",
        "outputId": "77c430c9-3fca-4e8d-fcdd-87f9c8a6472b"
      },
      "source": [
        "\n",
        "decryption = ceaser_cipher_encrypt(ceaser_text)\n",
        "\n",
        "def ceaser_cipher_decrypt(text):\n",
        "\n",
        "    t = list(text)\n",
        "    textt=[]\n",
        "    for i in range(len(t)):\n",
        "\n",
        "     #Encrypting uppercase characters\n",
        "       if (t[i].isupper()):\n",
        "          k = chr((ord(t[i]) - 3 - 65) % 26 + 65) \n",
        "          textt.append(k)\n",
        "\n",
        "      # Encrypting lowercase characters\n",
        "       elif (t[i].islower()):\n",
        "          k =  chr((ord(t[i]) - 3 - 97) % 26 + 97)\n",
        "          textt.append(k)\n",
        "\n",
        "      # Checking empty list index \n",
        "       else:\n",
        "         textt.append(\" \")\n",
        "\n",
        "    texttt =\"\"\n",
        "    return (texttt.join(textt))\n",
        "\n",
        "print (\"The Plaintext : \", ceaser_cipher_decrypt(decryption))"
      ],
      "execution_count": 5,
      "outputs": [
        {
          "output_type": "stream",
          "text": [
            "The Plaintext :  naz\n"
          ],
          "name": "stdout"
        }
      ]
    }
  ]
}