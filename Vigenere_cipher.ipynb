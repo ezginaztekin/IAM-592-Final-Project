{
  "nbformat": 4,
  "nbformat_minor": 0,
  "metadata": {
    "colab": {
      "name": "Vigenere_cipher.ipynb",
      "provenance": []
    },
    "kernelspec": {
      "name": "python3",
      "display_name": "Python 3"
    },
    "language_info": {
      "name": "python"
    }
  },
  "cells": [
    {
      "cell_type": "markdown",
      "metadata": {
        "id": "ghHXZzge2fTh"
      },
      "source": [
        "## Vigenere Cipher \n",
        "Let m be a positive integer. Define the space of plaintext, ciphertext and key as $(Z_{26})^m$. For a key K = ($k_1,k_2, \\dots , k_m$), we define\n",
        "\n",
        "In encryption,\n",
        "$$  E_K(x_1,x_2, \\dots , x_m)   = (x_1+ k_1, x_2 + k_2, \\dots , x_m + k_m)      $$\n",
        "In decryption,\n",
        "$$  D_K(y_1,y_2, \\dots , y_m)   = (y_1 - k_1, y_2 - k_2, \\dots , y_m - k_m)   $$\n",
        "where all operations are performed in $Z_{26}$."
      ]
    },
    {
      "cell_type": "code",
      "metadata": {
        "colab": {
          "base_uri": "https://localhost:8080/"
        },
        "id": "XM7zBirdr2LL",
        "outputId": "ef707e77-5566-43a4-c16f-eca7d05f510e"
      },
      "source": [
        "# Python codes for Vigenere Cipher encryption\n",
        "def vigenere_cipher_encrypt(text, key):\n",
        "    \n",
        "    t = list(text)\n",
        "    key = list(key) \n",
        "\n",
        "# Checking the length of key and text are equal or not \n",
        "\n",
        "    if len(text) == len(key):\n",
        "        key = key\n",
        "    else:\n",
        "        subtraction =  len(text) - len(key)\n",
        "        for i in range(subtraction):\n",
        "            h = key[i % len(key)]\n",
        "            key.append(h)\n",
        "\n",
        "  \n",
        "    textt=[]\n",
        "      \n",
        "    k = key\n",
        "\n",
        "    for i in range(len(t)):\n",
        "\n",
        "      #Encrypting uppercase characters\n",
        "      if (t[i].isupper()):\n",
        "         m = chr(((ord(t[i]) - 65 ) + (ord(k[i]) - 65)) % 26 + ord('A'))      \n",
        "         textt.append(m)\n",
        "\n",
        "      # Encrypting lowercase characters\n",
        "      elif (t[i].islower()):\n",
        "          m =  chr(((ord(t[i]) - 97 ) + (ord(k[i]) - 97)) % 26 + ord('a'))   \n",
        "          textt.append(m)\n",
        "\n",
        "      # Checking empty list index \n",
        "      else:\n",
        "        textt.append(\" \")\n",
        "\n",
        "    texttt =\"\"\n",
        "    return (texttt.join(textt))\n",
        " \n",
        "\n",
        "\n",
        "#checking the vigenere_cipher_encrypt function  \n",
        "vigenere_text = input(\"Please give the plaintext : \")  # input: MIDDLE EAST TECHNICAL UNIVERSITY   \n",
        "vigenere_key = input(\"Please give the key : \") # input : IAM\n",
        "\n",
        "\n",
        "print (\"The Ciphertext : \", vigenere_cipher_encrypt(vigenere_text, vigenere_key)) # output : UIPLLQ EMAT BEOPNUKAX UZQVQZSUBY \n",
        "\n"
      ],
      "execution_count": 10,
      "outputs": [
        {
          "output_type": "stream",
          "text": [
            "Please give the plaintext : MIDDLE EAST TECHNICAL UNIVERSITY   \n",
            "Please give the key : IAM\n",
            "The Ciphertext :  UIPLLQ EMAT BEOPNUKAX UZQVQZSUBY   \n"
          ],
          "name": "stdout"
        }
      ]
    },
    {
      "cell_type": "code",
      "metadata": {
        "colab": {
          "base_uri": "https://localhost:8080/"
        },
        "id": "evtJZ2UJr2Cy",
        "outputId": "77cc0805-5fcd-4113-e733-a2c5d774f20e"
      },
      "source": [
        "# Python codes for Vigenere Cipher decryption\n",
        "\n",
        "def vigenere_cipher_decrypt(text, key):\n",
        "\n",
        "   \n",
        "    t = list(text)\n",
        "    key = list(key) \n",
        "\n",
        "# Checking the length of key and text are equal or not \n",
        "\n",
        "    if len(text) == len(key):\n",
        "        key = key\n",
        "    else:\n",
        "        subtraction =  len(text) - len(key)\n",
        "        for i in range(subtraction):\n",
        "            h = key[i % len(key)]\n",
        "            key.append(h)\n",
        "\n",
        "  \n",
        "    textt=[]\n",
        "      \n",
        "    k = key\n",
        "\n",
        "    for i in range(len(t)):\n",
        "\n",
        "     #Encrypting uppercase characters\n",
        "       if (t[i].isupper()):\n",
        "           m = chr(((ord(t[i]) - 65 ) - (ord(k[i]) - 65)) % 26 + ord('A'))  \n",
        "           textt.append(m)\n",
        "\n",
        "      # Encrypting lowercase characters\n",
        "       elif (t[i].islower()):\n",
        "          m =  chr(((ord(t[i]) - 97 ) - (ord(k[i]) - 97)) % 26 + ord('a')) \n",
        "          textt.append(m)\n",
        "\n",
        "      # Checking empty list index \n",
        "       else:\n",
        "         textt.append(\" \")\n",
        "\n",
        "    texttt =\"\"\n",
        "    return (texttt.join(textt))\n",
        "\n",
        "decryption = vigenere_cipher_encrypt(vigenere_text, vigenere_key)\n",
        "\n",
        "print (\"The Plaintext : \", vigenere_cipher_decrypt(decryption, vigenere_key))"
      ],
      "execution_count": 11,
      "outputs": [
        {
          "output_type": "stream",
          "text": [
            "The Plaintext :  MIDDLE EAST TECHNICAL UNIVERSITY   \n"
          ],
          "name": "stdout"
        }
      ]
    }
  ]
}