{
  "nbformat": 4,
  "nbformat_minor": 0,
  "metadata": {
    "colab": {
      "name": "Vigenere_cipher.ipynb",
      "provenance": []
    },
    "kernelspec": {
      "name": "python3",
      "display_name": "Python 3"
    },
    "language_info": {
      "name": "python"
    }
  },
  "cells": [
    {
      "cell_type": "markdown",
      "metadata": {
        "id": "ghHXZzge2fTh"
      },
      "source": [
        "## Vigenere Cipher \n",
        "Let m be a positive integer. Define the space of plaintext, ciphertext and key as $(Z_{26})^m$. For a key K = ($k_1,k_2, \\dots , k_m$), we define\n",
        "\n",
        "In encryption,\n",
        "$$  E_K(x_1,x_2, \\dots , x_m)   = (x_1+ k_1, x_2 + k_2, \\dots , x_m + k_m)      $$\n",
        "In decryption,\n",
        "$$  D_K(y_1,y_2, \\dots , y_m)   = (y_1 - k_1, y_2 - k_2, \\dots , y_m - k_m)   $$\n",
        "where all operations are performed in $Z_{26}$."
      ]
    },
    {
      "cell_type": "code",
      "metadata": {
        "colab": {
          "base_uri": "https://localhost:8080/"
        },
        "id": "XM7zBirdr2LL",
        "outputId": "fe8e019e-4494-4bfc-cc9e-211ff9bd62e0"
      },
      "source": [
        "# Python codes for Vigenere Cipher encryption\n",
        "def vigenere_cipher_encrypt(text, key):\n",
        "\n",
        "    t = list(text)\n",
        "    k = list(key) \n",
        "    textt=[]\n",
        "\n",
        "\n",
        "    for i in range(len(t)):\n",
        "\n",
        "      #Encrypting uppercase characters\n",
        "      if (t[i].isupper()):\n",
        "         m = chr(((ord(t[i]) - 65 ) + (ord(k[i]) - 65)) % 26 + 65)      \n",
        "         textt.append(m)\n",
        "\n",
        "      # Encrypting lowercase characters\n",
        "      elif (t[i].islower()):\n",
        "          m =  chr(((ord(t[i]) - 97 ) + (ord(k[i]) - 97)) % 26 + 97)   \n",
        "          textt.append(m)\n",
        "\n",
        "      # Checking empty list index \n",
        "      else:\n",
        "        textt.append(\" \")\n",
        "\n",
        "    texttt =\"\"\n",
        "    return (texttt.join(textt))\n",
        " \n",
        "\n",
        "\n",
        "#checking the vigenere_cipher_encrypt function  \n",
        "vigenere_text = input(\"Please give the plaintext : \")     \n",
        "vigenere_key = input(\"Please give the key : \") \n",
        "\n",
        "\n",
        "print (\"The Ciphertext : \", vigenere_cipher_encrypt(vigenere_text, vigenere_key)) \n",
        "\n"
      ],
      "execution_count": 35,
      "outputs": [
        {
          "output_type": "stream",
          "text": [
            "Please give the plaintext : METU\n",
            "Please give the key : MIDD\n",
            "The Ciphertext :  YMWX\n"
          ],
          "name": "stdout"
        }
      ]
    },
    {
      "cell_type": "code",
      "metadata": {
        "colab": {
          "base_uri": "https://localhost:8080/"
        },
        "id": "evtJZ2UJr2Cy",
        "outputId": "a2cb80da-2af3-467d-9b7e-a00823968ec6"
      },
      "source": [
        "# Python codes for Vigenere Cipher decryption\n",
        "\n",
        "def vigenere_cipher_decrypt(text, key):\n",
        "\n",
        "    t = list(text)\n",
        "    k = list(key) \n",
        "\n",
        "    textt=[]\n",
        "\n",
        "    for i in range(len(t)):\n",
        "\n",
        "     #Encrypting uppercase characters\n",
        "       if (t[i].isupper()):\n",
        "           m = chr(((ord(t[i]) - 65 ) - (ord(k[i]) - 65)) % 26 + 65)  \n",
        "           textt.append(m)\n",
        "\n",
        "      # Encrypting lowercase characters\n",
        "       elif (t[i].islower()):\n",
        "          m =  chr(((ord(t[i]) - 97 ) - (ord(k[i]) - 97)) % 26 + 97) \n",
        "          textt.append(m)\n",
        "\n",
        "      # Checking empty list index \n",
        "       else:\n",
        "         textt.append(\" \")\n",
        "\n",
        "    texttt =\"\"\n",
        "    return (texttt.join(textt))\n",
        "\n",
        "decryption = vigenere_cipher_encrypt(vigenere_text, vigenere_key)\n",
        "\n",
        "print (\"The Plaintext : \", vigenere_cipher_decrypt(decryption, vigenere_key))"
      ],
      "execution_count": 36,
      "outputs": [
        {
          "output_type": "stream",
          "text": [
            "The Plaintext :  METU\n"
          ],
          "name": "stdout"
        }
      ]
    }
  ]
}